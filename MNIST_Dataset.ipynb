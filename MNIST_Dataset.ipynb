{
 "cells": [
  {
   "cell_type": "code",
   "execution_count": 2,
   "id": "3b1448f1",
   "metadata": {},
   "outputs": [],
   "source": [
    "import tensorflow as tf\n",
    "import matplotlib.pyplot as plt\n",
    "import numpy as np\n",
    "from PIL import Image\n",
    "import pandas as pd"
   ]
  },
  {
   "cell_type": "code",
   "execution_count": 3,
   "id": "ae1425e3",
   "metadata": {},
   "outputs": [],
   "source": [
    "mnist=tf.keras.datasets.mnist.load_data()\n"
   ]
  },
  {
   "cell_type": "code",
   "execution_count": 4,
   "id": "7eb8850d",
   "metadata": {},
   "outputs": [],
   "source": [
    "(x_train, y_train), (x_test, y_test) = mnist"
   ]
  },
  {
   "cell_type": "code",
   "execution_count": 5,
   "id": "90af55dc",
   "metadata": {
    "scrolled": true
   },
   "outputs": [
    {
     "data": {
      "text/plain": [
       "(<matplotlib.image.AxesImage at 0x279a5dbfdf0>, 5)"
      ]
     },
     "execution_count": 5,
     "metadata": {},
     "output_type": "execute_result"
    },
    {
     "data": {
      "image/png": "[encoded data removed]",
      "text/plain": [
       "<Figure size 640x480 with 1 Axes>"
      ]
     },
     "metadata": {},
     "output_type": "display_data"
    }
   ],
   "source": [
    "plt.imshow(x_train[11]),y_train[11]"
   ]
  },
  {
   "cell_type": "code",
   "execution_count": 6,
   "id": "5a52aca5",
   "metadata": {
    "scrolled": false
   },
   "outputs": [
    {
     "name": "stdout",
     "output_type": "stream",
     "text": [
      "The label for image number 12 is 9\n"
     ]
    },
    {
     "data": {
      "image/png": "[encoded data removed]",
      "text/plain": [
       "<Figure size 640x480 with 1 Axes>"
      ]
     },
     "metadata": {},
     "output_type": "display_data"
    }
   ],
   "source": [
    "plt.imshow(x_test[12].reshape(28, 28));\n",
    "print(\"The label for image number\", 12, \"is\", y_test[12])"
   ]
  },
  {
   "cell_type": "code",
   "execution_count": 7,
   "id": "780ec4d5",
   "metadata": {},
   "outputs": [],
   "source": [
    " model = tf.keras.Sequential([\n",
    "     tf.keras.layers.Conv1D(filters=32,kernel_size=3,input_shape=[28,28],activation='relu'),\n",
    "        tf.keras.layers.Flatten(),\n",
    "        tf.keras.layers.Dense(10),\n",
    "        \n",
    "        tf.keras.layers.Softmax()\n",
    "    ])\n",
    "\n",
    "model.compile(optimizer='adam',\n",
    "                  loss='categorical_crossentropy',\n",
    "                  metrics=['accuracy'])"
   ]
  },
  {
   "cell_type": "code",
   "execution_count": 8,
   "id": "518d2c5a",
   "metadata": {},
   "outputs": [],
   "source": [
    "y_train=tf.cast(y_train,dtype=tf.float64)"
   ]
  },
  {
   "cell_type": "code",
   "execution_count": 9,
   "id": "bbffbf0d",
   "metadata": {},
   "outputs": [],
   "source": [
    "x_train=tf.cast(x_train,dtype=tf.float64)"
   ]
  },
  {
   "cell_type": "code",
   "execution_count": 10,
   "id": "13920e51",
   "metadata": {},
   "outputs": [],
   "source": [
    "y_train=tf.convert_to_tensor(pd.get_dummies(y_train))\n",
    "y_test=tf.convert_to_tensor(pd.get_dummies(y_test))"
   ]
  },
  {
   "cell_type": "code",
   "execution_count": 11,
   "id": "7b9b1c5e",
   "metadata": {},
   "outputs": [
    {
     "data": {
      "text/plain": [
       "<tf.Tensor: shape=(10000, 10), dtype=uint8, numpy=\n",
       "array([[0, 0, 0, ..., 1, 0, 0],\n",
       "       [0, 0, 1, ..., 0, 0, 0],\n",
       "       [0, 1, 0, ..., 0, 0, 0],\n",
       "       ...,\n",
       "       [0, 0, 0, ..., 0, 0, 0],\n",
       "       [0, 0, 0, ..., 0, 0, 0],\n",
       "       [0, 0, 0, ..., 0, 0, 0]], dtype=uint8)>"
      ]
     },
     "execution_count": 11,
     "metadata": {},
     "output_type": "execute_result"
    }
   ],
   "source": [
    "y_test"
   ]
  },
  {
   "cell_type": "code",
   "execution_count": 142,
   "id": "e32c0312",
   "metadata": {
    "scrolled": true
   },
   "outputs": [
    {
     "name": "stdout",
     "output_type": "stream",
     "text": [
      "Epoch 1/25\n",
      "1313/1313 [==============================] - 3s 2ms/step - loss: 3.3466 - accuracy: 0.8630 - val_loss: 0.9404 - val_accuracy: 0.9204\n",
      "Epoch 2/25\n",
      "1313/1313 [==============================] - 2s 2ms/step - loss: 0.5877 - accuracy: 0.9331 - val_loss: 0.4958 - val_accuracy: 0.9386\n",
      "Epoch 3/25\n",
      "1313/1313 [==============================] - 2s 2ms/step - loss: 0.3331 - accuracy: 0.9486 - val_loss: 0.3927 - val_accuracy: 0.9407\n",
      "Epoch 4/25\n",
      "1313/1313 [==============================] - 2s 2ms/step - loss: 0.2495 - accuracy: 0.9524 - val_loss: 0.3889 - val_accuracy: 0.9421\n",
      "Epoch 5/25\n",
      "1313/1313 [==============================] - 2s 2ms/step - loss: 0.2378 - accuracy: 0.9579 - val_loss: 0.3756 - val_accuracy: 0.9494\n",
      "Epoch 6/25\n",
      "1313/1313 [==============================] - 3s 2ms/step - loss: 0.2286 - accuracy: 0.9593 - val_loss: 0.4130 - val_accuracy: 0.9465\n",
      "Epoch 7/25\n",
      "1313/1313 [==============================] - 2s 2ms/step - loss: 0.2217 - accuracy: 0.9606 - val_loss: 0.4248 - val_accuracy: 0.9448\n",
      "Epoch 8/25\n",
      "1313/1313 [==============================] - 2s 2ms/step - loss: 0.2097 - accuracy: 0.9639 - val_loss: 0.4788 - val_accuracy: 0.9505\n",
      "Epoch 9/25\n",
      "1313/1313 [==============================] - 2s 2ms/step - loss: 0.2075 - accuracy: 0.9667 - val_loss: 0.4160 - val_accuracy: 0.9513\n",
      "Epoch 10/25\n",
      "1313/1313 [==============================] - 2s 2ms/step - loss: 0.1978 - accuracy: 0.9685 - val_loss: 0.4524 - val_accuracy: 0.9501\n",
      "Epoch 11/25\n",
      "1313/1313 [==============================] - 2s 2ms/step - loss: 0.2068 - accuracy: 0.9694 - val_loss: 0.4631 - val_accuracy: 0.9537\n",
      "Epoch 12/25\n",
      "1313/1313 [==============================] - 2s 2ms/step - loss: 0.1990 - accuracy: 0.9715 - val_loss: 0.5204 - val_accuracy: 0.9539\n",
      "Epoch 13/25\n",
      "1313/1313 [==============================] - 3s 2ms/step - loss: 0.1962 - accuracy: 0.9718 - val_loss: 0.5312 - val_accuracy: 0.9544\n",
      "Epoch 14/25\n",
      "1313/1313 [==============================] - 2s 2ms/step - loss: 0.1866 - accuracy: 0.9742 - val_loss: 0.5734 - val_accuracy: 0.9542\n",
      "Epoch 15/25\n",
      "1313/1313 [==============================] - 2s 2ms/step - loss: 0.1905 - accuracy: 0.9756 - val_loss: 0.6161 - val_accuracy: 0.9540\n",
      "Epoch 16/25\n",
      "1313/1313 [==============================] - 2s 2ms/step - loss: 0.1730 - accuracy: 0.9771 - val_loss: 0.5759 - val_accuracy: 0.9579\n",
      "Epoch 17/25\n",
      "1313/1313 [==============================] - 2s 2ms/step - loss: 0.1781 - accuracy: 0.9779 - val_loss: 0.7518 - val_accuracy: 0.9516\n",
      "Epoch 18/25\n",
      "1313/1313 [==============================] - 2s 2ms/step - loss: 0.1941 - accuracy: 0.9780 - val_loss: 0.7981 - val_accuracy: 0.9554\n",
      "Epoch 19/25\n",
      "1313/1313 [==============================] - 3s 2ms/step - loss: 0.1901 - accuracy: 0.9790 - val_loss: 0.7913 - val_accuracy: 0.9576\n",
      "Epoch 20/25\n",
      "1313/1313 [==============================] - 3s 2ms/step - loss: 0.1727 - accuracy: 0.9805 - val_loss: 0.7448 - val_accuracy: 0.9616\n",
      "Epoch 21/25\n",
      "1313/1313 [==============================] - 3s 2ms/step - loss: 0.1635 - accuracy: 0.9822 - val_loss: 0.7324 - val_accuracy: 0.9617\n",
      "Epoch 22/25\n",
      "1313/1313 [==============================] - 2s 2ms/step - loss: 0.1914 - accuracy: 0.9811 - val_loss: 0.8318 - val_accuracy: 0.9562\n",
      "Epoch 23/25\n",
      "1313/1313 [==============================] - 2s 2ms/step - loss: 0.1805 - accuracy: 0.9832 - val_loss: 0.8707 - val_accuracy: 0.9593\n",
      "Epoch 24/25\n",
      "1313/1313 [==============================] - 2s 2ms/step - loss: 0.1828 - accuracy: 0.9834 - val_loss: 0.9018 - val_accuracy: 0.9603\n",
      "Epoch 25/25\n",
      "1313/1313 [==============================] - 2s 2ms/step - loss: 0.1704 - accuracy: 0.9848 - val_loss: 1.0032 - val_accuracy: 0.9625\n"
     ]
    },
    {
     "data": {
      "text/plain": [
       "<keras.src.callbacks.History at 0x1d9608625f0>"
      ]
     },
     "execution_count": 142,
     "metadata": {},
     "output_type": "execute_result"
    }
   ],
   "source": [
    "model.fit(x_train,y_train, validation_split=0.3,epochs=25)"
   ]
  },
  {
   "cell_type": "code",
   "execution_count": 19,
   "id": "f2facd63",
   "metadata": {},
   "outputs": [],
   "source": [
    "# model.save('MNIST.h5')"
   ]
  },
  {
   "cell_type": "code",
   "execution_count": 157,
   "id": "3e42245a",
   "metadata": {},
   "outputs": [],
   "source": [
    "# model.save('MNIST.keras')"
   ]
  },
  {
   "cell_type": "code",
   "execution_count": 144,
   "id": "d32d30c2",
   "metadata": {
    "scrolled": true
   },
   "outputs": [
    {
     "name": "stdout",
     "output_type": "stream",
     "text": [
      "313/313 [==============================] - 0s 722us/step\n"
     ]
    }
   ],
   "source": [
    "df_preds=pd.DataFrame(model.predict(x_test))\n",
    "for i in df_preds:\n",
    "    df_preds[i]=df_preds[i].astype(int)\n",
    "preds_final=np.array(df_preds.idxmax(axis=1))"
   ]
  },
  {
   "cell_type": "code",
   "execution_count": 145,
   "id": "96dddb2f",
   "metadata": {},
   "outputs": [
    {
     "data": {
      "text/plain": [
       "(array([7, 2, 1, ..., 4, 5, 6], dtype=int64),\n",
       " array([7, 2, 1, ..., 4, 5, 6], dtype=int64))"
      ]
     },
     "execution_count": 145,
     "metadata": {},
     "output_type": "execute_result"
    }
   ],
   "source": [
    "preds_final,np.array(pd.DataFrame(y_test).idxmax(axis=1))"
   ]
  },
  {
   "cell_type": "code",
   "execution_count": 12,
   "id": "000a1cb9",
   "metadata": {},
   "outputs": [],
   "source": [
    "model1=tf.keras.models.load_model('MNIST.h5')\n"
   ]
  },
  {
   "cell_type": "code",
   "execution_count": 14,
   "id": "e3e6d57f",
   "metadata": {},
   "outputs": [
    {
     "name": "stdout",
     "output_type": "stream",
     "text": [
      "313/313 [==============================] - 0s 746us/step\n"
     ]
    }
   ],
   "source": [
    "df_preds1=pd.DataFrame(model1.predict(x_test))\n",
    "for i in df_preds1:\n",
    "    df_preds1[i]=df_preds1[i].astype(int)\n",
    "preds_final1=np.array(df_preds1.idxmax(axis=1))"
   ]
  },
  {
   "cell_type": "code",
   "execution_count": 15,
   "id": "f94d281d",
   "metadata": {},
   "outputs": [],
   "source": [
    "def evalu8(x,y):\n",
    "    score=0\n",
    "    for a,b in zip(x,y):\n",
    "        if a==b:\n",
    "            score+=1\n",
    "    return score"
   ]
  },
  {
   "cell_type": "code",
   "execution_count": 17,
   "id": "5d970b12",
   "metadata": {},
   "outputs": [
    {
     "data": {
      "text/plain": [
       "9244"
      ]
     },
     "execution_count": 17,
     "metadata": {},
     "output_type": "execute_result"
    }
   ],
   "source": [
    "evalu8(preds_final1,np.array(pd.DataFrame(y_test).idxmax(axis=1)))"
   ]
  },
  {
   "cell_type": "code",
   "execution_count": 18,
   "id": "0e493659",
   "metadata": {
    "scrolled": true
   },
   "outputs": [
    {
     "ename": "NameError",
     "evalue": "name 'preds_final' is not defined",
     "output_type": "error",
     "traceback": [
      "\u001b[1;31m---------------------------------------------------------------------------\u001b[0m",
      "\u001b[1;31mNameError\u001b[0m                                 Traceback (most recent call last)",
      "Cell \u001b[1;32mIn[18], line 1\u001b[0m\n\u001b[1;32m----> 1\u001b[0m evalu8(\u001b[43mpreds_final\u001b[49m,np\u001b[38;5;241m.\u001b[39marray(pd\u001b[38;5;241m.\u001b[39mDataFrame(y_test)\u001b[38;5;241m.\u001b[39midxmax(axis\u001b[38;5;241m=\u001b[39m\u001b[38;5;241m1\u001b[39m)))\n",
      "\u001b[1;31mNameError\u001b[0m: name 'preds_final' is not defined"
     ]
    }
   ],
   "source": [
    "evalu8(preds_final,np.array(pd.DataFrame(y_test).idxmax(axis=1)))"
   ]
  },
  {
   "cell_type": "code",
   "execution_count": null,
   "id": "57b303fd",
   "metadata": {},
   "outputs": [],
   "source": []
  }
 ],
 "metadata": {
  "kernelspec": {
   "display_name": "Python 3 (ipykernel)",
   "language": "python",
   "name": "python3"
  },
  "language_info": {
   "codemirror_mode": {
    "name": "ipython",
    "version": 3
   },
   "file_extension": ".py",
   "mimetype": "text/x-python",
   "name": "python",
   "nbconvert_exporter": "python",
   "pygments_lexer": "ipython3",
   "version": "3.10.9"
  }
 },
 "nbformat": 4,
 "nbformat_minor": 5
}
